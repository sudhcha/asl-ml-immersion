{
 "cells": [
  {
   "cell_type": "markdown",
   "metadata": {},
   "source": [
    "# Introducing the Keras Functional API\n",
    "\n",
    "**Learning Objectives**\n",
    "  1. Understand embeddings and how to create them with the feature column API\n",
    "  1. Understand Deep and Wide models and when to use them\n",
    "  1. Understand the Keras functional API and how to build a deep and wide model with it\n",
    "\n",
    "## Introduction\n",
    "\n",
    "In the last notebook, we learned about the Keras Sequential API. The [Keras Functional API](https://www.tensorflow.org/guide/keras#functional_api) provides an alternate way of building models which is more flexible. With the Functional API, we can build models with more complex topologies, multiple input or output layers, shared layers or non-sequential data flows (e.g. residual layers).\n",
    "\n",
    "In this notebook we'll use what we learned about feature columns to build a Wide & Deep model. Recall, that the idea behind Wide & Deep models is to join the two methods of learning through memorization and generalization by making a wide linear model and a deep learning model to accommodate both. You can have a look at the original research paper here: [Wide & Deep Learning for Recommender Systems](https://arxiv.org/abs/1606.07792).\n",
    "\n",
    "<img src='assets/wide_deep.png' width='80%'>\n",
    "<sup>(image: https://ai.googleblog.com/2016/06/wide-deep-learning-better-together-with.html)</sup>\n",
    "\n",
    "The Wide part of the model is associated with the memory element. In this case, we train a linear model with a wide set of crossed features and learn the correlation of this related data with the assigned label. The Deep part of the model is associated with the generalization element where we use embedding vectors for features. The best embeddings are then learned through the training process. While both of these methods can work well alone, Wide & Deep models excel by combining these techniques together. "
   ]
  },
  {
   "cell_type": "markdown",
   "metadata": {},
   "source": [
    "Start by importing the necessary libraries for this lab."
   ]
  },
  {
   "cell_type": "code",
   "execution_count": 1,
   "metadata": {},
   "outputs": [
    {
     "name": "stdout",
     "output_type": "stream",
     "text": [
      "2.6.2\n"
     ]
    }
   ],
   "source": [
    "import datetime\n",
    "import os\n",
    "import shutil\n",
    "\n",
    "import numpy as np\n",
    "import pandas as pd\n",
    "import tensorflow as tf\n",
    "from matplotlib import pyplot as plt\n",
    "from tensorflow import feature_column as fc\n",
    "from tensorflow import keras\n",
    "from tensorflow.keras import Model\n",
    "from tensorflow.keras.callbacks import TensorBoard\n",
    "from tensorflow.keras.layers import Dense, DenseFeatures, Input, concatenate\n",
    "\n",
    "print(tf.__version__)"
   ]
  },
  {
   "cell_type": "code",
   "execution_count": 2,
   "metadata": {},
   "outputs": [],
   "source": [
    "%matplotlib inline"
   ]
  },
  {
   "cell_type": "markdown",
   "metadata": {},
   "source": [
    "## Load raw data \n",
    "\n",
    "We will use the taxifare dataset, using the CSV files that we created in the first notebook of this sequence. Those files have been saved into `../data`."
   ]
  },
  {
   "cell_type": "code",
   "execution_count": 3,
   "metadata": {},
   "outputs": [
    {
     "name": "stdout",
     "output_type": "stream",
     "text": [
      "-rw-r--r-- 1 jupyter jupyter 123590 Nov 30 16:17 ../data/taxi-test.csv\n",
      "-rw-r--r-- 1 jupyter jupyter 579055 Nov 30 16:17 ../data/taxi-train.csv\n",
      "-rw-r--r-- 1 jupyter jupyter 123114 Nov 30 16:17 ../data/taxi-valid.csv\n"
     ]
    }
   ],
   "source": [
    "!ls -l ../data/*.csv"
   ]
  },
  {
   "cell_type": "markdown",
   "metadata": {},
   "source": [
    "## Use tf.data to read the CSV files\n",
    "\n",
    "We wrote these functions for reading data from the csv files above in the [previous notebook](2_dataset_api.ipynb). For this lab we will also include some additional engineered features in our model. In particular, we will compute the difference in latitude and longitude, as well as the Euclidean distance between the pick-up and drop-off locations. We can accomplish this by adding these new features to the features dictionary with the function `add_engineered_features` below. \n",
    "\n",
    "Note that we include a call to this function when collecting our features dict and labels in the `features_and_labels` function below as well. "
   ]
  },
  {
   "cell_type": "code",
   "execution_count": 4,
   "metadata": {},
   "outputs": [],
   "source": [
    "CSV_COLUMNS = [\n",
    "    \"fare_amount\",\n",
    "    \"pickup_datetime\",\n",
    "    \"pickup_longitude\",\n",
    "    \"pickup_latitude\",\n",
    "    \"dropoff_longitude\",\n",
    "    \"dropoff_latitude\",\n",
    "    \"passenger_count\",\n",
    "    \"key\",\n",
    "]\n",
    "LABEL_COLUMN = \"fare_amount\"\n",
    "DEFAULTS = [[0.0], [\"na\"], [0.0], [0.0], [0.0], [0.0], [0.0], [\"na\"]]\n",
    "UNWANTED_COLS = [\"pickup_datetime\", \"key\"]\n",
    "\n",
    "\n",
    "def features_and_labels(row_data):\n",
    "    label = row_data.pop(LABEL_COLUMN)\n",
    "    features = row_data\n",
    "\n",
    "    for unwanted_col in UNWANTED_COLS:\n",
    "        features.pop(unwanted_col)\n",
    "\n",
    "    return features, label\n",
    "\n",
    "\n",
    "def create_dataset(pattern, batch_size=1, mode=\"eval\"):\n",
    "    dataset = tf.data.experimental.make_csv_dataset(\n",
    "        pattern, batch_size, CSV_COLUMNS, DEFAULTS\n",
    "    )\n",
    "\n",
    "    dataset = dataset.map(features_and_labels)\n",
    "\n",
    "    if mode == \"train\":\n",
    "        dataset = dataset.shuffle(buffer_size=1000).repeat()\n",
    "\n",
    "    # take advantage of multi-threading; 1=AUTOTUNE\n",
    "    dataset = dataset.prefetch(1)\n",
    "    return dataset"
   ]
  },
  {
   "cell_type": "markdown",
   "metadata": {},
   "source": [
    "## Feature columns for Wide and Deep model\n",
    "\n",
    "For the Wide columns, we will create feature columns of crossed features. To do this, we'll create a collection of Tensorflow feature columns to pass to the `tf.feature_column.crossed_column` constructor. The Deep columns will consist of numeric columns and the embedding columns we want to create. "
   ]
  },
  {
   "cell_type": "markdown",
   "metadata": {},
   "source": [
    "**Exercise.** In the cell below, create feature columns for our wide-and-deep model. You'll need to build \n",
    "1. bucketized columns using [tf.feature_column.bucketized_column](https://www.tensorflow.org/api_docs/python/tf/feature_column/bucketized_column) for the pickup and dropoff latitude and longitude,\n",
    "2. crossed columns using [tf.feature_column.crossed_column](https://www.tensorflow.org/api_docs/python/tf/feature_column/crossed_column) for those bucketized columns, and \n",
    "3. embedding columns using [tf.feature_column.embedding_column](https://www.tensorflow.org/api_docs/python/tf/feature_column/embedding_column) for the crossed columns."
   ]
  },
  {
   "cell_type": "code",
   "execution_count": 5,
   "metadata": {},
   "outputs": [],
   "source": [
    "# 1. Bucketize latitudes and longitudes\n",
    "NBUCKETS = 16\n",
    "latbuckets = np.linspace(start=38.0, stop=42.0, num=NBUCKETS).tolist()\n",
    "lonbuckets = np.linspace(start=-76.0, stop=-72.0, num=NBUCKETS).tolist()\n",
    "\n",
    "pickup_latitude = tf.feature_column.numeric_column('pickup_latitude')\n",
    "pickup_longitude = tf.feature_column.numeric_column('pickup_longitude')\n",
    "dropoff_latitude = tf.feature_column.numeric_column('dropoff_latitude')\n",
    "dropoff_longitude = tf.feature_column.numeric_column('dropoff_longitude')\n",
    "\n",
    "fc_bucketized_plat = tf.feature_column.bucketized_column(pickup_latitude, boundaries=latbuckets)# TODO: Your code goes here.\n",
    "fc_bucketized_plon = tf.feature_column.bucketized_column(pickup_longitude, boundaries=lonbuckets)# TODO: Your code goes here.\n",
    "fc_bucketized_dlat = tf.feature_column.bucketized_column(dropoff_latitude, boundaries=latbuckets)# TODO: Your code goes here.\n",
    "fc_bucketized_dlon = tf.feature_column.bucketized_column(dropoff_longitude, boundaries=lonbuckets)# TODO: Your code goes here.\n",
    "\n",
    "# 2. Cross features for locations\n",
    "fc_crossed_dloc = tf.feature_column.crossed_column([fc_bucketized_dlat, fc_bucketized_dlon], NBUCKETS**2)  # TODO: Your code goes here.\n",
    "fc_crossed_ploc = tf.feature_column.crossed_column([fc_bucketized_plat, fc_bucketized_plon], NBUCKETS**2) # TODO: Your code goes here.\n",
    "fc_crossed_pd_pair = tf.feature_column.crossed_column([fc_crossed_dloc, fc_crossed_ploc], NBUCKETS**4)# TODO: Your code goes here.\n",
    "\n",
    "# 3. Create embedding columns for the crossed columns\n",
    "fc_pd_pair = tf.feature_column.embedding_column(fc_crossed_pd_pair, 9)# TODO: Your code goes here.\n",
    "fc_dloc = tf.feature_column.embedding_column(fc_crossed_dloc, 9)# TODO: Your code goes here.\n",
    "fc_ploc = tf.feature_column.embedding_column(fc_crossed_ploc, 9)# TODO: Your code goes here."
   ]
  },
  {
   "cell_type": "markdown",
   "metadata": {},
   "source": [
    "### Gather list of feature columns\n",
    "\n",
    "Next we gather the list of wide and deep feature columns we'll pass to our Wide & Deep model in Tensorflow. Recall, wide columns are sparse, have linear relationship with the output while continuous columns are deep, have a complex relationship with the output. We will use our previously bucketized columns to collect crossed feature columns and sparse feature columns for our wide columns, and embedding feature columns and numeric features columns for the deep columns."
   ]
  },
  {
   "cell_type": "markdown",
   "metadata": {},
   "source": [
    "**Exercise.** Collect the wide and deep columns into two separate lists. You'll have two lists: One called `wide_columns` containing the one-hot encoded features from the crossed features and one called `deep_columns` which contains numeric and embedding feature columns."
   ]
  },
  {
   "cell_type": "code",
   "execution_count": 6,
   "metadata": {},
   "outputs": [],
   "source": [
    "# TODO 2\n",
    "wide_columns = [\n",
    "    # One-hot encoded feature crosses\n",
    "    # TODO: Your code goes here.\n",
    "    fc.indicator_column(fc_crossed_dloc),\n",
    "    fc.indicator_column(fc_crossed_ploc),\n",
    "    fc.indicator_column(fc_crossed_pd_pair)\n",
    "    \n",
    "]\n",
    "\n",
    "deep_columns = [\n",
    "    # Embedding_column to \"group\" together ...\n",
    "    # TODO: Your code goes here.\n",
    "    fc_pd_pair,\n",
    "    # Numeric columns\n",
    "    # TODO: Your code goes here.\n",
    "    pickup_latitude,\n",
    "    pickup_longitude,\n",
    "    dropoff_latitude,\n",
    "    dropoff_longitude\n",
    "]"
   ]
  },
  {
   "cell_type": "markdown",
   "metadata": {},
   "source": [
    "## Build a Wide and Deep model in Keras\n",
    "\n",
    "To build a wide-and-deep network, we connect the sparse (i.e. wide) features directly to the output node, but pass the dense (i.e. deep) features through a set of fully connected layers. Here’s that model architecture looks using the Functional API.\n",
    "\n",
    "First, we'll create our input columns using [tf.keras.layers.Input](https://www.tensorflow.org/versions/r2.0/api_docs/python/tf/keras/Input)."
   ]
  },
  {
   "cell_type": "code",
   "execution_count": 7,
   "metadata": {},
   "outputs": [],
   "source": [
    "INPUT_COLS = [\n",
    "    \"pickup_longitude\",\n",
    "    \"pickup_latitude\",\n",
    "    \"dropoff_longitude\",\n",
    "    \"dropoff_latitude\",\n",
    "    \"passenger_count\",\n",
    "]\n",
    "\n",
    "inputs = {\n",
    "    colname: Input(name=colname, shape=(), dtype=\"float32\")\n",
    "    for colname in INPUT_COLS\n",
    "}\n"
   ]
  },
  {
   "cell_type": "markdown",
   "metadata": {},
   "source": [
    "Then, we'll define our custom RMSE evaluation metric and build our wide and deep model."
   ]
  },
  {
   "cell_type": "markdown",
   "metadata": {},
   "source": [
    "**Exercise.** Complete the code in the function `build_model` below so that it returns a compiled Keras model. The argument `dnn_hidden_units` should represent the number of units in each layer of your network. Use the Functional API to build a wide-and-deep model. Use the `deep_columns` you created above to build the deep layers and the `wide_columns` to create the wide layers. Once you have the wide and deep components, you will combine them to feed to a final fully connected layer. "
   ]
  },
  {
   "cell_type": "code",
   "execution_count": 8,
   "metadata": {},
   "outputs": [],
   "source": [
    "def rmse(y_true, y_pred):\n",
    "    return tf.sqrt(tf.reduce_mean(tf.square(y_pred - y_true)))\n",
    "\n",
    "\n",
    "def build_model(dnn_hidden_units):\n",
    "    # Create the deep part of model\n",
    "    deep = DenseFeatures(deep_columns, name=\"deep_input\") (inputs)# TODO: Your code goes here.\n",
    "    for num_nodes in dnn_hidden_units:\n",
    "        deep = Dense(num_nodes, activation=\"relu\")(deep)\n",
    "        \n",
    "    \n",
    "    # Create the wide part of model\n",
    "    wide = DenseFeatures(wide_columns, name=\"wide_input\") (inputs)# TODO: Your code goes here.\n",
    "\n",
    "    # Combine deep and wide parts of the model\n",
    "    combined = concatenate(inputs=[deep, wide], name=\"combined\")# TODO: Your code goes here.\n",
    "\n",
    "    # Map the combined outputs into a single prediction value\n",
    "    output = Dense(1, activation=None, name=\"prediction\")(combined)# TODO: Your code goes here.\n",
    "    \n",
    "    # Finalize the model\n",
    "    model = Model(inputs=list(inputs.values()), outputs=output, name=\"wide_and_deep\")# TODO: Your code goes here.\n",
    "\n",
    "    # Compile the keras model\n",
    "    model.compile(\n",
    "        # TODO: Your code goes here.\n",
    "        optimizer=\"adam\",\n",
    "        loss=\"mse\",\n",
    "        metrics=[rmse, \"mse\"]\n",
    "    )\n",
    "    return model"
   ]
  },
  {
   "cell_type": "markdown",
   "metadata": {},
   "source": [
    "Next, we can call the `build_model` to create the model. Here we'll have two hidden layers, each with 10 neurons, for the deep part of our model. We can also use `plot_model` to see a diagram of the model we've created."
   ]
  },
  {
   "cell_type": "code",
   "execution_count": 9,
   "metadata": {},
   "outputs": [
    {
     "name": "stderr",
     "output_type": "stream",
     "text": [
      "2021-12-03 15:59:57.367282: I tensorflow/core/common_runtime/process_util.cc:146] Creating new thread pool with default inter op setting: 2. Tune using inter_op_parallelism_threads for best performance.\n"
     ]
    },
    {
     "data": {
      "image/png": "[encoded data removed]",
      "text/plain": [
       "<IPython.core.display.Image object>"
      ]
     },
     "execution_count": 9,
     "metadata": {},
     "output_type": "execute_result"
    }
   ],
   "source": [
    "HIDDEN_UNITS = [10, 10]\n",
    "\n",
    "model = build_model(dnn_hidden_units=HIDDEN_UNITS)\n",
    "\n",
    "tf.keras.utils.plot_model(model, show_shapes=False, rankdir=\"LR\")"
   ]
  },
  {
   "cell_type": "markdown",
   "metadata": {},
   "source": [
    "Next, we'll set up our training variables, create our datasets for training and validation, and train our model.\n",
    "\n",
    "(We refer you the the blog post [ML Design Pattern #3: Virtual Epochs](https://medium.com/google-cloud/ml-design-pattern-3-virtual-epochs-f842296de730) for further details on why express the training in terms of `NUM_TRAIN_EXAMPLES` and `NUM_EVALS` and why, in this training code, the number of epochs is really equal to the number of evaluations we perform.)"
   ]
  },
  {
   "cell_type": "code",
   "execution_count": 10,
   "metadata": {},
   "outputs": [],
   "source": [
    "BATCH_SIZE = 1000\n",
    "NUM_TRAIN_EXAMPLES = 10000 * 5  # training dataset will repeat, wrap around\n",
    "NUM_EVALS = 50  # how many times to evaluate\n",
    "NUM_EVAL_EXAMPLES = 10000  # enough to get a reasonable sample\n",
    "\n",
    "trainds = create_dataset(\n",
    "    pattern=\"../data/taxi-train*\", batch_size=BATCH_SIZE, mode=\"train\"\n",
    ")\n",
    "\n",
    "evalds = create_dataset(\n",
    "    pattern=\"../data/taxi-valid*\", batch_size=BATCH_SIZE, mode=\"eval\"\n",
    ").take(NUM_EVAL_EXAMPLES // 1000)"
   ]
  },
  {
   "cell_type": "code",
   "execution_count": 11,
   "metadata": {},
   "outputs": [
    {
     "name": "stderr",
     "output_type": "stream",
     "text": [
      "2021-12-03 15:59:57.918827: I tensorflow/core/profiler/lib/profiler_session.cc:131] Profiler session initializing.\n",
      "2021-12-03 15:59:57.918857: I tensorflow/core/profiler/lib/profiler_session.cc:146] Profiler session started.\n",
      "2021-12-03 15:59:57.918986: I tensorflow/core/profiler/lib/profiler_session.cc:164] Profiler session tear down.\n"
     ]
    },
    {
     "name": "stdout",
     "output_type": "stream",
     "text": [
      "Epoch 1/50\n"
     ]
    },
    {
     "name": "stderr",
     "output_type": "stream",
     "text": [
      "2021-12-03 15:59:59.173258: I tensorflow/compiler/mlir/mlir_graph_optimization_pass.cc:185] None of the MLIR Optimization Passes are enabled (registered 2)\n",
      "2021-12-03 16:00:09.449332: I tensorflow/core/kernels/data/shuffle_dataset_op.cc:175] Filling up shuffle buffer (this may take a while): 672 of 1000\n",
      "2021-12-03 16:00:14.105840: I tensorflow/core/kernels/data/shuffle_dataset_op.cc:228] Shuffle buffer filled.\n"
     ]
    },
    {
     "name": "stdout",
     "output_type": "stream",
     "text": [
      "1/1 [==============================] - 20s 20s/step - loss: 191.2365 - rmse: 13.8288 - mse: 191.2365 - val_loss: 236.2715 - val_rmse: 15.3633 - val_mse: 236.2715\n",
      "Epoch 2/50\n"
     ]
    },
    {
     "name": "stderr",
     "output_type": "stream",
     "text": [
      "2021-12-03 16:00:17.729818: I tensorflow/core/profiler/lib/profiler_session.cc:131] Profiler session initializing.\n",
      "2021-12-03 16:00:17.729860: I tensorflow/core/profiler/lib/profiler_session.cc:146] Profiler session started.\n"
     ]
    },
    {
     "name": "stdout",
     "output_type": "stream",
     "text": [
      "1/1 [==============================] - ETA: 0s - loss: 217.1029 - rmse: 14.7344 - mse: 217.1029"
     ]
    },
    {
     "name": "stderr",
     "output_type": "stream",
     "text": [
      "2021-12-03 16:00:17.952213: I tensorflow/core/profiler/lib/profiler_session.cc:66] Profiler session collecting data.\n",
      "2021-12-03 16:00:18.002648: I tensorflow/core/profiler/lib/profiler_session.cc:164] Profiler session tear down.\n",
      "2021-12-03 16:00:18.117514: I tensorflow/core/profiler/rpc/client/save_profile.cc:136] Creating directory: ./taxi_trained/train/plugins/profile/2021_12_03_16_00_18\n",
      "\n",
      "2021-12-03 16:00:18.132879: I tensorflow/core/profiler/rpc/client/save_profile.cc:142] Dumped gzipped tool data for trace.json.gz to ./taxi_trained/train/plugins/profile/2021_12_03_16_00_18/tensorflow-2-6-20211130-090834.trace.json.gz\n",
      "2021-12-03 16:00:18.146817: I tensorflow/core/profiler/rpc/client/save_profile.cc:136] Creating directory: ./taxi_trained/train/plugins/profile/2021_12_03_16_00_18\n",
      "\n",
      "2021-12-03 16:00:18.147589: I tensorflow/core/profiler/rpc/client/save_profile.cc:142] Dumped gzipped tool data for memory_profile.json.gz to ./taxi_trained/train/plugins/profile/2021_12_03_16_00_18/tensorflow-2-6-20211130-090834.memory_profile.json.gz\n",
      "2021-12-03 16:00:18.148209: I tensorflow/core/profiler/rpc/client/capture_profile.cc:251] Creating directory: ./taxi_trained/train/plugins/profile/2021_12_03_16_00_18\n",
      "Dumped tool data for xplane.pb to ./taxi_trained/train/plugins/profile/2021_12_03_16_00_18/tensorflow-2-6-20211130-090834.xplane.pb\n",
      "Dumped tool data for overview_page.pb to ./taxi_trained/train/plugins/profile/2021_12_03_16_00_18/tensorflow-2-6-20211130-090834.overview_page.pb\n",
      "Dumped tool data for input_pipeline.pb to ./taxi_trained/train/plugins/profile/2021_12_03_16_00_18/tensorflow-2-6-20211130-090834.input_pipeline.pb\n",
      "Dumped tool data for tensorflow_stats.pb to ./taxi_trained/train/plugins/profile/2021_12_03_16_00_18/tensorflow-2-6-20211130-090834.tensorflow_stats.pb\n",
      "Dumped tool data for kernel_stats.pb to ./taxi_trained/train/plugins/profile/2021_12_03_16_00_18/tensorflow-2-6-20211130-090834.kernel_stats.pb\n",
      "\n"
     ]
    },
    {
     "name": "stdout",
     "output_type": "stream",
     "text": [
      "1/1 [==============================] - 3s 3s/step - loss: 217.1029 - rmse: 14.7344 - mse: 217.1029 - val_loss: 232.6420 - val_rmse: 15.2483 - val_mse: 232.6420\n",
      "Epoch 3/50\n",
      "1/1 [==============================] - 3s 3s/step - loss: 195.3858 - rmse: 13.9780 - mse: 195.3858 - val_loss: 230.7396 - val_rmse: 15.1785 - val_mse: 230.7396\n",
      "Epoch 4/50\n",
      "1/1 [==============================] - 3s 3s/step - loss: 215.5004 - rmse: 14.6799 - mse: 215.5004 - val_loss: 226.4321 - val_rmse: 15.0411 - val_mse: 226.4321\n",
      "Epoch 5/50\n",
      "1/1 [==============================] - 2s 2s/step - loss: 206.1642 - rmse: 14.3584 - mse: 206.1642 - val_loss: 224.2153 - val_rmse: 14.9527 - val_mse: 224.2153\n",
      "Epoch 6/50\n",
      "1/1 [==============================] - 3s 3s/step - loss: 173.6374 - rmse: 13.1772 - mse: 173.6374 - val_loss: 222.3571 - val_rmse: 14.9054 - val_mse: 222.3571\n",
      "Epoch 7/50\n",
      "1/1 [==============================] - 3s 3s/step - loss: 192.6763 - rmse: 13.8808 - mse: 192.6763 - val_loss: 217.0716 - val_rmse: 14.7283 - val_mse: 217.0716\n",
      "Epoch 8/50\n",
      "1/1 [==============================] - 2s 2s/step - loss: 182.3839 - rmse: 13.5050 - mse: 182.3839 - val_loss: 216.1279 - val_rmse: 14.6922 - val_mse: 216.1279\n",
      "Epoch 9/50\n",
      "1/1 [==============================] - 2s 2s/step - loss: 202.0593 - rmse: 14.2148 - mse: 202.0593 - val_loss: 210.9440 - val_rmse: 14.5175 - val_mse: 210.9440\n",
      "Epoch 10/50\n",
      "1/1 [==============================] - 2s 2s/step - loss: 199.8254 - rmse: 14.1360 - mse: 199.8254 - val_loss: 210.8003 - val_rmse: 14.5115 - val_mse: 210.8003\n",
      "Epoch 11/50\n",
      "1/1 [==============================] - 2s 2s/step - loss: 153.4378 - rmse: 12.3870 - mse: 153.4378 - val_loss: 205.5715 - val_rmse: 14.3327 - val_mse: 205.5715\n",
      "Epoch 12/50\n",
      "1/1 [==============================] - 2s 2s/step - loss: 178.7039 - rmse: 13.3680 - mse: 178.7039 - val_loss: 204.4220 - val_rmse: 14.2642 - val_mse: 204.4220\n",
      "Epoch 13/50\n",
      "1/1 [==============================] - 3s 3s/step - loss: 188.8492 - rmse: 13.7422 - mse: 188.8492 - val_loss: 201.4770 - val_rmse: 14.1864 - val_mse: 201.4770\n",
      "Epoch 14/50\n",
      "1/1 [==============================] - 2s 2s/step - loss: 164.4121 - rmse: 12.8223 - mse: 164.4121 - val_loss: 196.1456 - val_rmse: 13.9897 - val_mse: 196.1456\n",
      "Epoch 15/50\n",
      "1/1 [==============================] - 3s 3s/step - loss: 165.4007 - rmse: 12.8608 - mse: 165.4007 - val_loss: 194.4595 - val_rmse: 13.9359 - val_mse: 194.4595\n",
      "Epoch 16/50\n",
      "1/1 [==============================] - 2s 2s/step - loss: 178.9607 - rmse: 13.3776 - mse: 178.9607 - val_loss: 194.5331 - val_rmse: 13.9331 - val_mse: 194.5331\n",
      "Epoch 17/50\n",
      "1/1 [==============================] - 3s 3s/step - loss: 158.3262 - rmse: 12.5828 - mse: 158.3262 - val_loss: 187.1663 - val_rmse: 13.6716 - val_mse: 187.1663\n",
      "Epoch 18/50\n",
      "1/1 [==============================] - 3s 3s/step - loss: 127.0541 - rmse: 11.2718 - mse: 127.0541 - val_loss: 185.5707 - val_rmse: 13.6170 - val_mse: 185.5707\n",
      "Epoch 19/50\n",
      "1/1 [==============================] - 3s 3s/step - loss: 138.8194 - rmse: 11.7822 - mse: 138.8194 - val_loss: 184.9017 - val_rmse: 13.5769 - val_mse: 184.9017\n",
      "Epoch 20/50\n",
      "1/1 [==============================] - 3s 3s/step - loss: 160.9584 - rmse: 12.6869 - mse: 160.9584 - val_loss: 177.1278 - val_rmse: 13.2931 - val_mse: 177.1278\n",
      "Epoch 21/50\n",
      "1/1 [==============================] - 3s 3s/step - loss: 178.7142 - rmse: 13.3684 - mse: 178.7142 - val_loss: 176.8496 - val_rmse: 13.2717 - val_mse: 176.8496\n",
      "Epoch 22/50\n",
      "1/1 [==============================] - 3s 3s/step - loss: 145.6417 - rmse: 12.0682 - mse: 145.6417 - val_loss: 173.6387 - val_rmse: 13.1683 - val_mse: 173.6387\n",
      "Epoch 23/50\n",
      "1/1 [==============================] - 3s 3s/step - loss: 132.7240 - rmse: 11.5206 - mse: 132.7240 - val_loss: 168.4018 - val_rmse: 12.9729 - val_mse: 168.4018\n",
      "Epoch 24/50\n",
      "1/1 [==============================] - 3s 3s/step - loss: 131.8234 - rmse: 11.4814 - mse: 131.8234 - val_loss: 165.5402 - val_rmse: 12.8540 - val_mse: 165.5402\n",
      "Epoch 25/50\n",
      "1/1 [==============================] - 3s 3s/step - loss: 166.3612 - rmse: 12.8981 - mse: 166.3612 - val_loss: 160.1833 - val_rmse: 12.6313 - val_mse: 160.1833\n",
      "Epoch 26/50\n",
      "1/1 [==============================] - 2s 2s/step - loss: 155.0732 - rmse: 12.4528 - mse: 155.0732 - val_loss: 162.8222 - val_rmse: 12.7462 - val_mse: 162.8222\n",
      "Epoch 27/50\n",
      "1/1 [==============================] - 3s 3s/step - loss: 116.2533 - rmse: 10.7821 - mse: 116.2533 - val_loss: 155.4098 - val_rmse: 12.4511 - val_mse: 155.4098\n",
      "Epoch 28/50\n",
      "1/1 [==============================] - 3s 3s/step - loss: 125.8211 - rmse: 11.2170 - mse: 125.8211 - val_loss: 155.6302 - val_rmse: 12.4632 - val_mse: 155.6302\n",
      "Epoch 29/50\n",
      "1/1 [==============================] - 2s 2s/step - loss: 138.7152 - rmse: 11.7777 - mse: 138.7152 - val_loss: 151.1562 - val_rmse: 12.2741 - val_mse: 151.1562\n",
      "Epoch 30/50\n",
      "1/1 [==============================] - 3s 3s/step - loss: 134.9657 - rmse: 11.6175 - mse: 134.9657 - val_loss: 150.2713 - val_rmse: 12.2115 - val_mse: 150.2713\n",
      "Epoch 31/50\n",
      "1/1 [==============================] - 2s 2s/step - loss: 124.7770 - rmse: 11.1704 - mse: 124.7770 - val_loss: 147.6615 - val_rmse: 12.1345 - val_mse: 147.6615\n",
      "Epoch 32/50\n",
      "1/1 [==============================] - 3s 3s/step - loss: 117.4615 - rmse: 10.8380 - mse: 117.4615 - val_loss: 143.5849 - val_rmse: 11.9677 - val_mse: 143.5849\n",
      "Epoch 33/50\n",
      "1/1 [==============================] - 2s 2s/step - loss: 109.9228 - rmse: 10.4844 - mse: 109.9228 - val_loss: 141.3326 - val_rmse: 11.8657 - val_mse: 141.3326\n",
      "Epoch 34/50\n",
      "1/1 [==============================] - 3s 3s/step - loss: 85.3682 - rmse: 9.2395 - mse: 85.3682 - val_loss: 137.3410 - val_rmse: 11.7100 - val_mse: 137.3410\n",
      "Epoch 35/50\n",
      "1/1 [==============================] - 2s 2s/step - loss: 149.5815 - rmse: 12.2304 - mse: 149.5815 - val_loss: 135.2545 - val_rmse: 11.6174 - val_mse: 135.2545\n",
      "Epoch 36/50\n",
      "1/1 [==============================] - 2s 2s/step - loss: 151.1582 - rmse: 12.2946 - mse: 151.1582 - val_loss: 134.8802 - val_rmse: 11.6012 - val_mse: 134.8802\n",
      "Epoch 37/50\n",
      "1/1 [==============================] - 3s 3s/step - loss: 122.7051 - rmse: 11.0772 - mse: 122.7051 - val_loss: 131.3825 - val_rmse: 11.4468 - val_mse: 131.3825\n",
      "Epoch 38/50\n",
      "1/1 [==============================] - 3s 3s/step - loss: 101.0370 - rmse: 10.0517 - mse: 101.0370 - val_loss: 130.4100 - val_rmse: 11.4069 - val_mse: 130.4100\n",
      "Epoch 39/50\n",
      "1/1 [==============================] - 2s 2s/step - loss: 136.2647 - rmse: 11.6732 - mse: 136.2647 - val_loss: 128.6139 - val_rmse: 11.3258 - val_mse: 128.6139\n",
      "Epoch 40/50\n",
      "1/1 [==============================] - 3s 3s/step - loss: 133.1171 - rmse: 11.5376 - mse: 133.1171 - val_loss: 125.5305 - val_rmse: 11.1965 - val_mse: 125.5305\n",
      "Epoch 41/50\n",
      "1/1 [==============================] - 3s 3s/step - loss: 105.5379 - rmse: 10.2732 - mse: 105.5379 - val_loss: 122.0470 - val_rmse: 11.0260 - val_mse: 122.0470\n",
      "Epoch 42/50\n",
      "1/1 [==============================] - 2s 2s/step - loss: 109.5810 - rmse: 10.4681 - mse: 109.5810 - val_loss: 121.7380 - val_rmse: 11.0136 - val_mse: 121.7380\n",
      "Epoch 43/50\n",
      "1/1 [==============================] - 3s 3s/step - loss: 107.0866 - rmse: 10.3483 - mse: 107.0866 - val_loss: 119.3174 - val_rmse: 10.9037 - val_mse: 119.3174\n",
      "Epoch 44/50\n",
      "1/1 [==============================] - 3s 3s/step - loss: 126.1075 - rmse: 11.2298 - mse: 126.1075 - val_loss: 117.1403 - val_rmse: 10.8120 - val_mse: 117.1403\n",
      "Epoch 45/50\n",
      "1/1 [==============================] - 3s 3s/step - loss: 94.3260 - rmse: 9.7122 - mse: 94.3260 - val_loss: 119.4803 - val_rmse: 10.9204 - val_mse: 119.4803\n",
      "Epoch 46/50\n",
      "1/1 [==============================] - 2s 2s/step - loss: 102.2002 - rmse: 10.1094 - mse: 102.2002 - val_loss: 114.4132 - val_rmse: 10.6796 - val_mse: 114.4132\n",
      "Epoch 47/50\n",
      "1/1 [==============================] - 3s 3s/step - loss: 84.2902 - rmse: 9.1810 - mse: 84.2902 - val_loss: 115.6139 - val_rmse: 10.7288 - val_mse: 115.6139\n",
      "Epoch 48/50\n",
      "1/1 [==============================] - 2s 2s/step - loss: 96.1835 - rmse: 9.8073 - mse: 96.1835 - val_loss: 116.6332 - val_rmse: 10.7946 - val_mse: 116.6332\n",
      "Epoch 49/50\n",
      "1/1 [==============================] - 3s 3s/step - loss: 83.4785 - rmse: 9.1367 - mse: 83.4785 - val_loss: 113.4653 - val_rmse: 10.6454 - val_mse: 113.4653\n",
      "Epoch 50/50\n",
      "1/1 [==============================] - 2s 2s/step - loss: 109.9568 - rmse: 10.4860 - mse: 109.9568 - val_loss: 113.6146 - val_rmse: 10.6404 - val_mse: 113.6145\n",
      "CPU times: user 4min 24s, sys: 2min 12s, total: 6min 36s\n",
      "Wall time: 2min 24s\n"
     ]
    }
   ],
   "source": [
    "%%time\n",
    "steps_per_epoch = NUM_TRAIN_EXAMPLES // (BATCH_SIZE * NUM_EVALS)\n",
    "\n",
    "OUTDIR = \"./taxi_trained\"\n",
    "shutil.rmtree(path=OUTDIR, ignore_errors=True)  # start fresh each time\n",
    "\n",
    "history = model.fit(\n",
    "    x=trainds,\n",
    "    steps_per_epoch=steps_per_epoch,\n",
    "    epochs=NUM_EVALS,\n",
    "    validation_data=evalds,\n",
    "    callbacks=[TensorBoard(OUTDIR)],\n",
    ")"
   ]
  },
  {
   "cell_type": "markdown",
   "metadata": {},
   "source": [
    "Just as before, we can examine the history to see how the RMSE changes through training on the train set and validation set. "
   ]
  },
  {
   "cell_type": "code",
   "execution_count": 12,
   "metadata": {},
   "outputs": [
    {
     "data": {
      "text/plain": [
       "<AxesSubplot:>"
      ]
     },
     "execution_count": 12,
     "metadata": {},
     "output_type": "execute_result"
    },
    {
     "data": {
      "image/png": "[encoded data removed]",
      "text/plain": [
       "<Figure size 432x288 with 1 Axes>"
      ]
     },
     "metadata": {
      "needs_background": "light"
     },
     "output_type": "display_data"
    }
   ],
   "source": [
    "RMSE_COLS = [\"rmse\", \"val_rmse\"]\n",
    "\n",
    "pd.DataFrame(history.history)[RMSE_COLS].plot()"
   ]
  },
  {
   "cell_type": "markdown",
   "metadata": {},
   "source": [
    "Copyright 2021 Google Inc. Licensed under the Apache License, Version 2.0 (the \"License\"); you may not use this file except in compliance with the License. You may obtain a copy of the License at http://www.apache.org/licenses/LICENSE-2.0 Unless required by applicable law or agreed to in writing, software distributed under the License is distributed on an \"AS IS\" BASIS, WITHOUT WARRANTIES OR CONDITIONS OF ANY KIND, either express or implied. See the License for the specific language governing permissions and limitations under the License"
   ]
  }
 ],
 "metadata": {
  "environment": {
   "kernel": "python3",
   "name": "tf2-gpu.2-6.m86",
   "type": "gcloud",
   "uri": "gcr.io/deeplearning-platform-release/tf2-gpu.2-6:m86"
  },
  "kernelspec": {
   "display_name": "Python 3",
   "language": "python",
   "name": "python3"
  },
  "language_info": {
   "codemirror_mode": {
    "name": "ipython",
    "version": 3
   },
   "file_extension": ".py",
   "mimetype": "text/x-python",
   "name": "python",
   "nbconvert_exporter": "python",
   "pygments_lexer": "ipython3",
   "version": "3.7.12"
  }
 },
 "nbformat": 4,
 "nbformat_minor": 4
}
